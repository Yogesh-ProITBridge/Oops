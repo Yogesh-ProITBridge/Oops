{
 "cells": [
  {
   "cell_type": "code",
   "execution_count": 1,
   "id": "4bd48c2d-fc6b-4b04-b19c-e874d82b3280",
   "metadata": {},
   "outputs": [],
   "source": [
    "import pandas as pd\n",
    "from matplotlib import pyplot as plt\n",
    "import seaborn as sns\n",
    "import numpy as np"
   ]
  },
  {
   "cell_type": "markdown",
   "id": "19d05cea-8d54-415a-8534-ecae4cd25c6b",
   "metadata": {},
   "source": [
    "**self - used to represent the instance of the class. With this keyword,you can access the attributes and methods of class in python**"
   ]
  },
  {
   "cell_type": "code",
   "execution_count": 2,
   "id": "50725b24-d58a-49d6-8fb1-29f2bc19f2e0",
   "metadata": {},
   "outputs": [],
   "source": [
    "student_1 = 'Yogesh'\n",
    "student_address = 'BTM'\n",
    "student_phone = 555666\n",
    "student_age = 22"
   ]
  },
  {
   "cell_type": "code",
   "execution_count": 3,
   "id": "68244e84-5de8-4875-a9d4-54cf90f3ec9a",
   "metadata": {},
   "outputs": [],
   "source": [
    "student_2 = 'Shubendhu'\n",
    "student_address = 'HSR'\n",
    "student_phone = 555966\n",
    "student_age = 22"
   ]
  },
  {
   "cell_type": "code",
   "execution_count": 4,
   "id": "7b3a2db3-23bc-4ac0-b83b-9d8bf4be3359",
   "metadata": {},
   "outputs": [],
   "source": [
    "class student_info:\n",
    "    def __init__(self,name,address,phone,age):\n",
    "        self.name=name\n",
    "        self.address=address\n",
    "        self.phone=phone\n",
    "        self.age=age\n",
    "        \n",
    "    def greet(self):\n",
    "            print(f\"Hello{self.name}.My address is {self.address} and my phone is {self.phone}.My age is{self.age}\")\n",
    "        \n",
    "    def age_increment(self):\n",
    "        self.age=self.age+10\n",
    "        print(f\"My age after increment is {self.age}\")\n",
    "        \n",
    "          "
   ]
  },
  {
   "cell_type": "code",
   "execution_count": 5,
   "id": "dae093c5-f55b-4c49-acbe-f4c1b9087c96",
   "metadata": {},
   "outputs": [],
   "source": [
    "student_1 = student_info('Yogesh','BTM',555666,20)"
   ]
  },
  {
   "cell_type": "code",
   "execution_count": 6,
   "id": "31616263-b72a-47b1-bab6-35933d13f2b1",
   "metadata": {},
   "outputs": [
    {
     "name": "stdout",
     "output_type": "stream",
     "text": [
      "My age after increment is 30\n"
     ]
    }
   ],
   "source": [
    "student_1.age_increment()"
   ]
  },
  {
   "cell_type": "code",
   "execution_count": 7,
   "id": "4e954319-ae4d-4d82-a7ca-082c85a23c14",
   "metadata": {},
   "outputs": [],
   "source": [
    "class age_increment:\n",
    "    def __init__(self,name,age):\n",
    "        self.name=name\n",
    "        self.age=age+10"
   ]
  },
  {
   "cell_type": "code",
   "execution_count": 8,
   "id": "abde7b63-065e-45b0-b740-57c43f4580c2",
   "metadata": {},
   "outputs": [],
   "source": [
    "stud_1=age_increment('Yogesh',20)"
   ]
  },
  {
   "cell_type": "code",
   "execution_count": 9,
   "id": "09db1d89-927c-4d3f-bbc5-265eb354e183",
   "metadata": {},
   "outputs": [
    {
     "data": {
      "text/plain": [
       "30"
      ]
     },
     "execution_count": 9,
     "metadata": {},
     "output_type": "execute_result"
    }
   ],
   "source": [
    "stud_1.age"
   ]
  },
  {
   "cell_type": "code",
   "execution_count": null,
   "id": "b7d42c4f-c12d-4432-beb1-8847cec459b5",
   "metadata": {},
   "outputs": [],
   "source": []
  },
  {
   "cell_type": "code",
   "execution_count": 10,
   "id": "194c9bd3-22be-48fd-bb98-5fc8ce529134",
   "metadata": {},
   "outputs": [
    {
     "name": "stdin",
     "output_type": "stream",
     "text": [
      "Please enter your movie name Animal\n",
      "Please select the screen type 2\n",
      "Please enter your age 17\n",
      "Please enter your phone number 9856412370\n",
      "Please enter the number of tickets 5\n"
     ]
    },
    {
     "name": "stdout",
     "output_type": "stream",
     "text": [
      "We're starting the ticket_total function\n",
      "We're starting the ticket_total function\n",
      "Total price is  750\n",
      "Your booking is confirmed for the movie Animal.We've deducted the total amount 750 for 5 tickets from your bank\n"
     ]
    }
   ],
   "source": [
    "class movie_ticket:\n",
    "    def __init__(self,m_name,screen_type,age,ph_no,no_tickets):\n",
    "        self.m_name=m_name\n",
    "        self.screen_type=screen_type\n",
    "        self.age=age\n",
    "        self.ph_no=ph_no\n",
    "        self.no_tickets=no_tickets\n",
    "    def ticket_total(self):\n",
    "        print(f\"We're starting the ticket_total function\")\n",
    "        if self.age<15:\n",
    "            ticket_price=100\n",
    "        elif self.age>60:\n",
    "            ticket_price=110\n",
    "        else:\n",
    "            ticket_price=150\n",
    "        total_price=ticket_price*no_tickets\n",
    "        return total_price\n",
    "    def price_confirmation(self):\n",
    "        total_price=self.ticket_total()\n",
    "        print(\"Total price is \",total_price)\n",
    "        print(f\"Your booking is confirmed for the movie {self.m_name}.We've deducted the total amount {total_price} for {self.no_tickets} tickets from your bank\")\n",
    "\n",
    "\n",
    "m_name=input(\"Please enter your movie name\")\n",
    "screen_type=input(\"Please select the screen type\")\n",
    "age=int(input(\"Please enter your age\"))\n",
    "ph_no=int(input(\"Please enter your phone number\"))\n",
    "no_tickets=int(input(\"Please enter the number of tickets\"))\n",
    "\n",
    "customer=movie_ticket(m_name,screen_type,age,ph_no,no_tickets)\n",
    "\n",
    "customer.ticket_total()\n",
    "customer.price_confirmation()"
   ]
  },
  {
   "cell_type": "code",
   "execution_count": null,
   "id": "f32ecefa-0422-48e6-851c-7ec7d4288ceb",
   "metadata": {},
   "outputs": [],
   "source": []
  },
  {
   "cell_type": "code",
   "execution_count": null,
   "id": "ceb56b21-a9dd-4826-9393-f654cf71be2a",
   "metadata": {},
   "outputs": [],
   "source": []
  },
  {
   "cell_type": "code",
   "execution_count": 17,
   "id": "f5774155-2b7f-4264-b962-3b9ac62700fd",
   "metadata": {},
   "outputs": [],
   "source": [
    "class software():\n",
    "    def __init__(self,name,emp_id,desig,salary):\n",
    "        self.name=name\n",
    "        self.emp_id=emp_id\n",
    "        self.desig=desig\n",
    "        self.__salary=salary  #encapsulation\n",
    "    #To get access to the restricted variable, we use the getter\n",
    "    def show_sal(self,password):\n",
    "        if password == 2468:\n",
    "            print(\"The salary is\",self.__salary)\n",
    "        else:\n",
    "            print(\"YOu Don't have access to this\")\n",
    "\n",
    "    #To update the value of a restricted variable, we use setter\n",
    "\n",
    "    def update_salary(self,password):\n",
    "        add_sal=20000\n",
    "        if password == \"money\":\n",
    "            self.__salary=self.__salary+add_sal\n",
    "            print(\"Updated salary is \",self.__salary)\n",
    "        else:\n",
    "            print(\"You don't have access to this\")"
   ]
  },
  {
   "cell_type": "code",
   "execution_count": 18,
   "id": "b52007fd-5834-40bf-a07f-66c25985af40",
   "metadata": {},
   "outputs": [],
   "source": [
    "employee=software('yogesh',701,'engineer',50000)"
   ]
  },
  {
   "cell_type": "code",
   "execution_count": 19,
   "id": "7bf5b2a1-1929-47ee-a492-23e145544255",
   "metadata": {},
   "outputs": [
    {
     "name": "stdout",
     "output_type": "stream",
     "text": [
      "Updated salary is  70000\n"
     ]
    }
   ],
   "source": [
    "employee.update_salary(\"money\")"
   ]
  },
  {
   "cell_type": "code",
   "execution_count": null,
   "id": "6d7f7adb-07b3-42eb-90b1-83475ca14ca8",
   "metadata": {},
   "outputs": [],
   "source": [
    "#Task- In today's class programming which was the Instant Variable and the local variables"
   ]
  },
  {
   "cell_type": "code",
   "execution_count": null,
   "id": "d4a26edd-7ac5-47c1-8420-c5b7387a0f24",
   "metadata": {},
   "outputs": [],
   "source": []
  }
 ],
 "metadata": {
  "kernelspec": {
   "display_name": "Python 3 (ipykernel)",
   "language": "python",
   "name": "python3"
  },
  "language_info": {
   "codemirror_mode": {
    "name": "ipython",
    "version": 3
   },
   "file_extension": ".py",
   "mimetype": "text/x-python",
   "name": "python",
   "nbconvert_exporter": "python",
   "pygments_lexer": "ipython3",
   "version": "3.12.0"
  }
 },
 "nbformat": 4,
 "nbformat_minor": 5
}
