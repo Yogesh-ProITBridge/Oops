{
 "cells": [
  {
   "cell_type": "markdown",
   "id": "b5e74fb9-1ebe-4616-8754-7c318359348d",
   "metadata": {},
   "source": [
    "# Object Oriented Programming in Python"
   ]
  },
  {
   "cell_type": "markdown",
   "id": "1ca7d6c4-6fd5-4891-bcdf-c485154f2a2f",
   "metadata": {},
   "source": [
    "-  We must understand the concept of classes and object.\n",
    "-  It is used to structure a software program into simple, reusable pieces of code blueprints(usually called classes)."
   ]
  },
  {
   "cell_type": "markdown",
   "id": "48a661ee-8e50-4bbb-bda6-7c941fad362e",
   "metadata": {},
   "source": [
    "oops - https://www.kdnuggets.com/2019/08/object-oriented-programming-data-scientists-estimator.html"
   ]
  },
  {
   "cell_type": "code",
   "execution_count": 3,
   "id": "10bbbf0b-bd34-4f5d-975c-9f6de3a2aedd",
   "metadata": {},
   "outputs": [],
   "source": [
    "import pandas as pd\n",
    "from matplotlib import pyplot as plt\n",
    "import seaborn as sns\n",
    "import numpy as np"
   ]
  },
  {
   "cell_type": "code",
   "execution_count": null,
   "id": "d44627b1-85a5-4cac-8542-eeb13aad00a7",
   "metadata": {},
   "outputs": [],
   "source": [
    "student_1 = 'Yogesh'\n",
    "student_address = 'BTM'\n",
    "student_phone = 555 666\n",
    "student_age = 22"
   ]
  },
  {
   "cell_type": "code",
   "execution_count": null,
   "id": "5b685ed3-08d8-4bd5-a394-ad0664f60bea",
   "metadata": {},
   "outputs": [],
   "source": [
    "student_2 = 'Shubendhu'\n",
    "student_address = 'HSR'\n",
    "student_phone = 555 666\n",
    "student_age = 22"
   ]
  },
  {
   "cell_type": "code",
   "execution_count": 5,
   "id": "d2a71100-86ee-4b13-9b7f-bffdaf71ca2f",
   "metadata": {},
   "outputs": [],
   "source": [
    "class student_info:\n",
    "    def __init__(self,name,address,phone,age):\n",
    "        self.name=name\n",
    "        self.address=address\n",
    "        self.phone=phone\n",
    "        self.age=age\n",
    "        "
   ]
  },
  {
   "cell_type": "code",
   "execution_count": 6,
   "id": "1ecb0120-e1f9-4e2e-87f0-ae43668b1ba9",
   "metadata": {},
   "outputs": [],
   "source": [
    "student_1 = student_info('Yogesh','BTM',555 666,20)"
   ]
  },
  {
   "cell_type": "code",
   "execution_count": 9,
   "id": "36ffbb09-338b-4b21-b59c-bdff8ffd92f4",
   "metadata": {},
   "outputs": [
    {
     "data": {
      "text/plain": [
       "'555 666'"
      ]
     },
     "execution_count": 9,
     "metadata": {},
     "output_type": "execute_result"
    }
   ],
   "source": [
    "student_1.phone"
   ]
  },
  {
   "cell_type": "code",
   "execution_count": 11,
   "id": "28e48fdb-a7d8-4f41-8a24-fd128c564fdf",
   "metadata": {},
   "outputs": [],
   "source": [
    "phone_1 = 'iphone'\n",
    "model_1 = 13\n",
    "model_2 = 14\n",
    "model_3 = 15"
   ]
  },
  {
   "cell_type": "code",
   "execution_count": 12,
   "id": "d72b35a6-9a5a-4d5b-a16c-31679f5b842a",
   "metadata": {},
   "outputs": [],
   "source": [
    "phone_2 = 'oneplus'\n",
    "model_1 = '10R'\n",
    "model_2 = '11R'\n",
    "model_3 = '11'"
   ]
  },
  {
   "cell_type": "code",
   "execution_count": 21,
   "id": "58f05403-e6a1-4ff1-8b73-3accae243dad",
   "metadata": {},
   "outputs": [],
   "source": [
    "class phone_info:\n",
    "    def __init__(self,name,model_1,model_2,model_3):\n",
    "        self.name=name\n",
    "        self.model_1=model_1\n",
    "        self.model_2=model_2\n",
    "        self.model_3=model_3"
   ]
  },
  {
   "cell_type": "code",
   "execution_count": 22,
   "id": "47a6ddeb-a6f7-44d9-a9cf-cb47f5062b71",
   "metadata": {},
   "outputs": [],
   "source": [
    "phone_1 = phone_info('iphone','13','14','15')"
   ]
  },
  {
   "cell_type": "code",
   "execution_count": 24,
   "id": "a8ac6650-8de9-4e4d-a7a1-0702f1b0abed",
   "metadata": {},
   "outputs": [
    {
     "data": {
      "text/plain": [
       "'14'"
      ]
     },
     "execution_count": 24,
     "metadata": {},
     "output_type": "execute_result"
    }
   ],
   "source": [
    "phone_1.model_2"
   ]
  },
  {
   "cell_type": "code",
   "execution_count": null,
   "id": "0ba31233-5172-4247-a84c-63cc7120500d",
   "metadata": {},
   "outputs": [],
   "source": []
  }
 ],
 "metadata": {
  "kernelspec": {
   "display_name": "Python 3 (ipykernel)",
   "language": "python",
   "name": "python3"
  },
  "language_info": {
   "codemirror_mode": {
    "name": "ipython",
    "version": 3
   },
   "file_extension": ".py",
   "mimetype": "text/x-python",
   "name": "python",
   "nbconvert_exporter": "python",
   "pygments_lexer": "ipython3",
   "version": "3.12.0"
  }
 },
 "nbformat": 4,
 "nbformat_minor": 5
}
