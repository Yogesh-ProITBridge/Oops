{
 "cells": [
  {
   "cell_type": "code",
   "execution_count": 1,
   "id": "7dcf26d1-dc15-4e9f-af5c-624d51c27f8f",
   "metadata": {},
   "outputs": [],
   "source": [
    "#Task- In today's class programming which was the Instant Variable and the local variables"
   ]
  },
  {
   "cell_type": "code",
   "execution_count": 2,
   "id": "99bd6695-16e7-465f-a774-27225a13c308",
   "metadata": {},
   "outputs": [],
   "source": [
    "class student_info:\n",
    "    def __init__(self,name,address,phone,age):\n",
    "        self.name=name\n",
    "        self.address=address\n",
    "        self.phone=phone\n",
    "        self.age=age\n",
    "        \n",
    "    def greet(self):\n",
    "            print(f\"Hello{self.name}.My address is {self.address} and my phone is {self.phone}.My age is{self.age}\")\n",
    "        \n",
    "    def age_increment(self):\n",
    "        self.age=self.age+10\n",
    "        print(f\"My age after increment is {self.age}\")\n",
    "        "
   ]
  },
  {
   "cell_type": "markdown",
   "id": "db3fb6af-6e77-4f7e-8f9e-4b781386b647",
   "metadata": {},
   "source": [
    "-  self.name, self.address, self.phone, and self.age are instance variables."
   ]
  },
  {
   "cell_type": "code",
   "execution_count": 3,
   "id": "f70dcb3c-005f-4004-9c75-30d27b8b23ee",
   "metadata": {},
   "outputs": [
    {
     "name": "stdin",
     "output_type": "stream",
     "text": [
      "Please enter your movie name Animal \n",
      "Please select the screen type 1\n",
      "Please enter your age 62\n",
      "Please enter your phone number 9856478563\n",
      "Please enter the number of tickets 3\n"
     ]
    },
    {
     "name": "stdout",
     "output_type": "stream",
     "text": [
      "We're starting the ticket_total function\n",
      "We're starting the ticket_total function\n",
      "Total price is  330\n",
      "Your booking is confirmed for the movie Animal .We've deducted the total amount 330 for 3 tickets from your bank\n"
     ]
    }
   ],
   "source": [
    "class movie_ticket:\n",
    "    def __init__(self,m_name,screen_type,age,ph_no,no_tickets):\n",
    "        self.m_name=m_name\n",
    "        self.screen_type=screen_type\n",
    "        self.age=age\n",
    "        self.ph_no=ph_no\n",
    "        self.no_tickets=no_tickets\n",
    "    def ticket_total(self):\n",
    "        print(f\"We're starting the ticket_total function\")\n",
    "        if self.age<15:\n",
    "            ticket_price=100\n",
    "        elif self.age>60:\n",
    "            ticket_price=110\n",
    "        else:\n",
    "            ticket_price=150\n",
    "        total_price=ticket_price*no_tickets\n",
    "        return total_price\n",
    "    def price_confirmation(self):\n",
    "        total_price=self.ticket_total()\n",
    "        print(\"Total price is \",total_price)\n",
    "        print(f\"Your booking is confirmed for the movie {self.m_name}.We've deducted the total amount {total_price} for {self.no_tickets} tickets from your bank\")\n",
    "\n",
    "\n",
    "m_name=input(\"Please enter your movie name\")\n",
    "screen_type=input(\"Please select the screen type\")\n",
    "age=int(input(\"Please enter your age\"))\n",
    "ph_no=int(input(\"Please enter your phone number\"))\n",
    "no_tickets=int(input(\"Please enter the number of tickets\"))\n",
    "\n",
    "customer=movie_ticket(m_name,screen_type,age,ph_no,no_tickets)\n",
    "\n",
    "customer.ticket_total()\n",
    "customer.price_confirmation()"
   ]
  },
  {
   "cell_type": "markdown",
   "id": "2c1747de-68ee-4920-8221-bf52e3dcc0fa",
   "metadata": {},
   "source": [
    "-  Instance variables: m_name, screen_type, age, ph_no, and no_tickets."
   ]
  },
  {
   "cell_type": "markdown",
   "id": "83dda048-6654-4bf1-abcc-8b3c67011abd",
   "metadata": {},
   "source": [
    "-  ticket_price is a local variable"
   ]
  },
  {
   "cell_type": "code",
   "execution_count": 4,
   "id": "b1c89a18-9609-4825-b0a6-4bb384b231ef",
   "metadata": {},
   "outputs": [],
   "source": [
    "class software():\n",
    "    def __init__(self,name,emp_id,desig,salary):\n",
    "        self.name=name\n",
    "        self.emp_id=emp_id\n",
    "        self.desig=desig\n",
    "        self.__salary=salary  #encapsulation\n",
    "    #To get access to the restricted variable, we use the getter\n",
    "    def show_sal(self,password):\n",
    "        if password == 2468:\n",
    "            print(\"The salary is\",self.__salary)\n",
    "        else:\n",
    "            print(\"YOu Don't have access to this\")\n",
    "\n",
    "    #To update the value of a restricted variable, we use setter\n",
    "\n",
    "    def update_salary(self,password):\n",
    "        add_sal=20000\n",
    "        if password == \"money\":\n",
    "            self.__salary=self.salary+add_sal\n",
    "            print(\"Updated salary is \",self.__salary)\n",
    "        else:\n",
    "            print(\"You don't have access to this\")"
   ]
  },
  {
   "cell_type": "markdown",
   "id": "bf73ab0a-2f45-49fb-867d-21fb102d78f0",
   "metadata": {},
   "source": [
    "### password and add_sal are local variables.\n",
    "-  In the show_sal method, password is a local variable.\n",
    "-  In the update_salary method, both password and add_sal are local variables."
   ]
  },
  {
   "cell_type": "markdown",
   "id": "b6dda915-0adf-43cf-8161-418ebfc9d57e",
   "metadata": {},
   "source": [
    "-  name, emp_id, desig, salary are Instant variable"
   ]
  },
  {
   "cell_type": "markdown",
   "id": "fcc91b4e-dfd1-4098-aae9-81b3597ebbdd",
   "metadata": {},
   "source": [
    " **Instance Variable: These variables are declared within a class but outside a method, constructor, or block and always get a default value.**\n",
    "-  These variables are usually created when we create an object and are destroyed when the object is destroyed.\n",
    "-  We may use an access specifier, for instance, variable, and if no access specifier is specified, then the default access specifier is used.\n",
    "-  Each and every object will have its own copy of instance variables."
   ]
  },
  {
   "cell_type": "code",
   "execution_count": null,
   "id": "b4af2c07-7b9f-4af1-9875-bf322b922580",
   "metadata": {},
   "outputs": [],
   "source": []
  },
  {
   "cell_type": "markdown",
   "id": "73eacb33-def5-4d67-977a-c32d3f196fff",
   "metadata": {},
   "source": [
    "**Local Variable: These variables are declared within a method but do not get any default value.**\n",
    "-  They are usually created when we enter a method or constructor and are destroyed after exiting the block or when the call returns from the method.\n",
    "-  Its scope is generally limited to a method and its scope starts from the line they are declared. Their scope usually remains there until the closing curly brace of the method comes.\n",
    "-  The initialization of the local variable is mandatory."
   ]
  },
  {
   "cell_type": "code",
   "execution_count": null,
   "id": "7e2b6891-057d-457f-90ba-e8fd78b08750",
   "metadata": {},
   "outputs": [],
   "source": []
  }
 ],
 "metadata": {
  "kernelspec": {
   "display_name": "Python 3 (ipykernel)",
   "language": "python",
   "name": "python3"
  },
  "language_info": {
   "codemirror_mode": {
    "name": "ipython",
    "version": 3
   },
   "file_extension": ".py",
   "mimetype": "text/x-python",
   "name": "python",
   "nbconvert_exporter": "python",
   "pygments_lexer": "ipython3",
   "version": "3.12.0"
  }
 },
 "nbformat": 4,
 "nbformat_minor": 5
}
