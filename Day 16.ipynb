{
 "cells": [
  {
   "cell_type": "code",
   "execution_count": null,
   "id": "347345e3-106c-4d12-bb44-2345ac888827",
   "metadata": {},
   "outputs": [],
   "source": [
    "class movie_ticket:\n",
    "    def __init__(self,m_name,screen_type,age,ph_no,no_tickets):\n",
    "        self.m_name=m_name\n",
    "        self.screen_type=screen_type\n",
    "        self.age=age\n",
    "        self.ph_no=ph_no\n",
    "        self.no_tickets=no_tickets\n",
    "    def ticket_total(self):\n",
    "        print(f\"We're starting the ticket_total function\")\n",
    "        if self.age<15:\n",
    "            ticket_price=100\n",
    "        elif self.age>60:\n",
    "            ticket_price=110\n",
    "        else:\n",
    "            ticket_price=150\n",
    "        total_price=ticket_price*no_tickets\n",
    "        return total_price\n",
    "    def price_confirmation(self):\n",
    "        total_price=self.ticket_total()\n",
    "        print(\"Total price is \",total_price)\n",
    "        print(f\"Your booking is confirmed for the movie {self.m_name}.We've deducted the total amount {total_price} for {self.no_tickets} tickets from your bank\")\n",
    "\n",
    "\n",
    "m_name=input(\"Please enter your movie name\")\n",
    "screen_type=input(\"Please select the screen type\")\n",
    "age=int(input(\"Please enter your age\"))\n",
    "ph_no=int(input(\"Please enter your phone number\"))\n",
    "no_tickets=int(input(\"Please enter the number of tickets\"))\n",
    "\n",
    "customer=movie_ticket(m_name,screen_type,age,ph_no,no_tickets)\n",
    "\n",
    "customer.ticket_total()\n",
    "customer.price_confirmation()"
   ]
  },
  {
   "cell_type": "code",
   "execution_count": null,
   "id": "ad5b954d-ae5f-4bce-9567-7b493251902c",
   "metadata": {},
   "outputs": [],
   "source": []
  },
  {
   "cell_type": "code",
   "execution_count": 2,
   "id": "c5a1e2b7-915f-425f-8dd4-1958e81a789c",
   "metadata": {},
   "outputs": [],
   "source": [
    "class chandan:\n",
    "    def __init__(self,f_name,l_name):\n",
    "        self.frist_name=f_name\n",
    "        self.last_name=l_name\n",
    "\n",
    "    def print_name(self):\n",
    "        print(self.frist_name, self.last_name)\n",
    "        "
   ]
  },
  {
   "cell_type": "code",
   "execution_count": 3,
   "id": "9c6d4e5e-02ca-4cab-8886-eeef5553a939",
   "metadata": {},
   "outputs": [],
   "source": [
    "call_name=chandan(\"chandan\",\"kumar\")"
   ]
  },
  {
   "cell_type": "code",
   "execution_count": 5,
   "id": "da41bebd-485c-4b07-9d68-c60789895a0c",
   "metadata": {},
   "outputs": [
    {
     "name": "stdout",
     "output_type": "stream",
     "text": [
      "chandan kumar\n"
     ]
    }
   ],
   "source": [
    "call_name.print_name()"
   ]
  },
  {
   "cell_type": "code",
   "execution_count": 6,
   "id": "94e2ea3b-e83b-49d9-9b2b-9dd01565b144",
   "metadata": {},
   "outputs": [
    {
     "name": "stdout",
     "output_type": "stream",
     "text": [
      "This is yogesh's derived class\n"
     ]
    }
   ],
   "source": [
    "class yogesh(chandan):\n",
    "    print(\"This is yogesh's derived class\")"
   ]
  },
  {
   "cell_type": "code",
   "execution_count": null,
   "id": "00a1afe5-e8c9-4788-bc2a-ca26c4ee065e",
   "metadata": {},
   "outputs": [],
   "source": [
    "calling_yogesh = \"yogesh\""
   ]
  },
  {
   "cell_type": "code",
   "execution_count": null,
   "id": "e30a15af-1682-4488-acf8-c8422a36b2b4",
   "metadata": {},
   "outputs": [],
   "source": []
  },
  {
   "cell_type": "code",
   "execution_count": null,
   "id": "b92014e2-937d-428a-8722-6cd4d76d0ec9",
   "metadata": {},
   "outputs": [],
   "source": []
  },
  {
   "cell_type": "code",
   "execution_count": null,
   "id": "05bae060-f17f-42b9-8f4f-870187cdac51",
   "metadata": {},
   "outputs": [],
   "source": []
  },
  {
   "cell_type": "code",
   "execution_count": 7,
   "id": "0b6cb830-ce3c-47b8-bd2d-393dac9c9b5e",
   "metadata": {},
   "outputs": [
    {
     "name": "stdout",
     "output_type": "stream",
     "text": [
      "30\n",
      "200\n",
      "0.5\n"
     ]
    }
   ],
   "source": [
    "class cal_1:\n",
    "    def sum (self,a,b):\n",
    "        return a+b;\n",
    "class cal_2:\n",
    "    def mul (self,a,b):\n",
    "        return a*b;\n",
    "class derived (cal_1,cal_2):\n",
    "    def div (self,a,b):\n",
    "        return a/b;\n",
    "\n",
    "d=derived()\n",
    "print(d.sum(10,20))\n",
    "print(d.mul(10,20))\n",
    "print(d.div(10,20))\n",
    "    \n",
    "    "
   ]
  },
  {
   "cell_type": "code",
   "execution_count": null,
   "id": "f6edf22d-dc41-4594-85a7-d8568dccb3bc",
   "metadata": {},
   "outputs": [],
   "source": []
  },
  {
   "cell_type": "markdown",
   "id": "0854dde0-c2ac-4247-a5bf-4df3ee772beb",
   "metadata": {},
   "source": [
    "# Inheritance"
   ]
  },
  {
   "cell_type": "code",
   "execution_count": null,
   "id": "81e5697d-0019-49d6-ab96-46e95d63488b",
   "metadata": {},
   "outputs": [],
   "source": []
  },
  {
   "cell_type": "code",
   "execution_count": 11,
   "id": "8694aafc-0ab1-4615-a422-acba7a4649ab",
   "metadata": {},
   "outputs": [
    {
     "name": "stdout",
     "output_type": "stream",
     "text": [
      "I am Tim and I'm 19 years old\n",
      "I am Bill and I'm 20 years old and I'm White with Brown color\n",
      "I am Jill and I'm 21 years old\n",
      "I don't know what to say\n"
     ]
    }
   ],
   "source": [
    "class pet():  #Here pet is upper class and its a inheritance to below two classes\n",
    "    def __init__(self,name,age):\n",
    "        self.name=name\n",
    "        self.age=age\n",
    "    def show(self):\n",
    "        print(f\"I am {self.name} and I'm {self.age} years old\")\n",
    "\n",
    "    def speak(self):\n",
    "        print(\"I don't know what to say\")\n",
    "        \n",
    "\n",
    "class cat(pet):             #child classes or derived classes\n",
    "    def __init__(self,name,age,color):\n",
    "        super().__init__(name,age)\n",
    "        self.color=color\n",
    "    def show(self):\n",
    "        print(f\"I am {self.name} and I'm {self.age} years old and I'm {self.color} color\")\n",
    "    def speak (self):\n",
    "        print(\"Meow\")\n",
    "\n",
    "class dog(pet):\n",
    "    def speak (self):\n",
    "        print(\"Bark\")\n",
    "\n",
    "class fish(pet):\n",
    "    pass\n",
    "\n",
    "p=pet (\"Tim\",19)\n",
    "p.show()\n",
    "c=cat(\"Bill\",20,\"White with Brown\")\n",
    "c.show()\n",
    "d=dog(\"Jill\",21)\n",
    "d.show()\n",
    "f=fish(\"Bubbles\",5)\n",
    "f.speak()\n",
    "    "
   ]
  },
  {
   "cell_type": "code",
   "execution_count": null,
   "id": "db6a4374-ae97-42f2-8f79-84a1eef6f193",
   "metadata": {},
   "outputs": [],
   "source": []
  }
 ],
 "metadata": {
  "kernelspec": {
   "display_name": "Python 3 (ipykernel)",
   "language": "python",
   "name": "python3"
  },
  "language_info": {
   "codemirror_mode": {
    "name": "ipython",
    "version": 3
   },
   "file_extension": ".py",
   "mimetype": "text/x-python",
   "name": "python",
   "nbconvert_exporter": "python",
   "pygments_lexer": "ipython3",
   "version": "3.12.0"
  }
 },
 "nbformat": 4,
 "nbformat_minor": 5
}
